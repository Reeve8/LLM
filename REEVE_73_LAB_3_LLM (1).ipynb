{
  "cells": [
    {
      "cell_type": "code",
      "source": [
        "!pip install langchain-groq"
      ],
      "metadata": {
        "colab": {
          "base_uri": "https://localhost:8080/"
        },
        "id": "rCAKDnhbDqjK",
        "outputId": "9ed8a024-2db2-4ceb-ede9-97b0979f12dd"
      },
      "id": "rCAKDnhbDqjK",
      "execution_count": 6,
      "outputs": [
        {
          "output_type": "stream",
          "name": "stdout",
          "text": [
            "Requirement already satisfied: langchain-groq in /usr/local/lib/python3.10/dist-packages (0.1.6)\n",
            "Requirement already satisfied: groq<1,>=0.4.1 in /usr/local/lib/python3.10/dist-packages (from langchain-groq) (0.9.0)\n",
            "Requirement already satisfied: langchain-core<0.3,>=0.2.2 in /usr/local/lib/python3.10/dist-packages (from langchain-groq) (0.2.22)\n",
            "Requirement already satisfied: anyio<5,>=3.5.0 in /usr/local/lib/python3.10/dist-packages (from groq<1,>=0.4.1->langchain-groq) (3.7.1)\n",
            "Requirement already satisfied: distro<2,>=1.7.0 in /usr/lib/python3/dist-packages (from groq<1,>=0.4.1->langchain-groq) (1.7.0)\n",
            "Requirement already satisfied: httpx<1,>=0.23.0 in /usr/local/lib/python3.10/dist-packages (from groq<1,>=0.4.1->langchain-groq) (0.27.0)\n",
            "Requirement already satisfied: pydantic<3,>=1.9.0 in /usr/local/lib/python3.10/dist-packages (from groq<1,>=0.4.1->langchain-groq) (2.8.2)\n",
            "Requirement already satisfied: sniffio in /usr/local/lib/python3.10/dist-packages (from groq<1,>=0.4.1->langchain-groq) (1.3.1)\n",
            "Requirement already satisfied: typing-extensions<5,>=4.7 in /usr/local/lib/python3.10/dist-packages (from groq<1,>=0.4.1->langchain-groq) (4.12.2)\n",
            "Requirement already satisfied: PyYAML>=5.3 in /usr/local/lib/python3.10/dist-packages (from langchain-core<0.3,>=0.2.2->langchain-groq) (6.0.1)\n",
            "Requirement already satisfied: jsonpatch<2.0,>=1.33 in /usr/local/lib/python3.10/dist-packages (from langchain-core<0.3,>=0.2.2->langchain-groq) (1.33)\n",
            "Requirement already satisfied: langsmith<0.2.0,>=0.1.75 in /usr/local/lib/python3.10/dist-packages (from langchain-core<0.3,>=0.2.2->langchain-groq) (0.1.92)\n",
            "Requirement already satisfied: packaging<25,>=23.2 in /usr/local/lib/python3.10/dist-packages (from langchain-core<0.3,>=0.2.2->langchain-groq) (24.1)\n",
            "Requirement already satisfied: tenacity!=8.4.0,<9.0.0,>=8.1.0 in /usr/local/lib/python3.10/dist-packages (from langchain-core<0.3,>=0.2.2->langchain-groq) (8.5.0)\n",
            "Requirement already satisfied: idna>=2.8 in /usr/local/lib/python3.10/dist-packages (from anyio<5,>=3.5.0->groq<1,>=0.4.1->langchain-groq) (3.7)\n",
            "Requirement already satisfied: exceptiongroup in /usr/local/lib/python3.10/dist-packages (from anyio<5,>=3.5.0->groq<1,>=0.4.1->langchain-groq) (1.2.2)\n",
            "Requirement already satisfied: certifi in /usr/local/lib/python3.10/dist-packages (from httpx<1,>=0.23.0->groq<1,>=0.4.1->langchain-groq) (2024.7.4)\n",
            "Requirement already satisfied: httpcore==1.* in /usr/local/lib/python3.10/dist-packages (from httpx<1,>=0.23.0->groq<1,>=0.4.1->langchain-groq) (1.0.5)\n",
            "Requirement already satisfied: h11<0.15,>=0.13 in /usr/local/lib/python3.10/dist-packages (from httpcore==1.*->httpx<1,>=0.23.0->groq<1,>=0.4.1->langchain-groq) (0.14.0)\n",
            "Requirement already satisfied: jsonpointer>=1.9 in /usr/local/lib/python3.10/dist-packages (from jsonpatch<2.0,>=1.33->langchain-core<0.3,>=0.2.2->langchain-groq) (3.0.0)\n",
            "Requirement already satisfied: orjson<4.0.0,>=3.9.14 in /usr/local/lib/python3.10/dist-packages (from langsmith<0.2.0,>=0.1.75->langchain-core<0.3,>=0.2.2->langchain-groq) (3.10.6)\n",
            "Requirement already satisfied: requests<3,>=2 in /usr/local/lib/python3.10/dist-packages (from langsmith<0.2.0,>=0.1.75->langchain-core<0.3,>=0.2.2->langchain-groq) (2.31.0)\n",
            "Requirement already satisfied: annotated-types>=0.4.0 in /usr/local/lib/python3.10/dist-packages (from pydantic<3,>=1.9.0->groq<1,>=0.4.1->langchain-groq) (0.7.0)\n",
            "Requirement already satisfied: pydantic-core==2.20.1 in /usr/local/lib/python3.10/dist-packages (from pydantic<3,>=1.9.0->groq<1,>=0.4.1->langchain-groq) (2.20.1)\n",
            "Requirement already satisfied: charset-normalizer<4,>=2 in /usr/local/lib/python3.10/dist-packages (from requests<3,>=2->langsmith<0.2.0,>=0.1.75->langchain-core<0.3,>=0.2.2->langchain-groq) (3.3.2)\n",
            "Requirement already satisfied: urllib3<3,>=1.21.1 in /usr/local/lib/python3.10/dist-packages (from requests<3,>=2->langsmith<0.2.0,>=0.1.75->langchain-core<0.3,>=0.2.2->langchain-groq) (2.0.7)\n"
          ]
        }
      ]
    },
    {
      "cell_type": "code",
      "execution_count": 7,
      "id": "91453c86-7dfd-4e22-abde-dffe897c511b",
      "metadata": {
        "id": "91453c86-7dfd-4e22-abde-dffe897c511b"
      },
      "outputs": [],
      "source": [
        "# Import necessary libraries from langchain\n",
        "from langchain_groq import ChatGroq\n",
        "from langchain_core.messages import HumanMessage\n"
      ]
    },
    {
      "cell_type": "code",
      "source": [
        "\n",
        "# Define the API key for the Groq model\n",
        "GROQ_API_KEY = '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'\n",
        "\n",
        "# Initialize the Groq model with specified parameters\n",
        "model = ChatGroq(model=\"llama3-70b-8192\", api_key=GROQ_API_KEY)\n",
        "\n"
      ],
      "metadata": {
        "id": "lC8yWx-ZE_nQ"
      },
      "id": "lC8yWx-ZE_nQ",
      "execution_count": 8,
      "outputs": []
    },
    {
      "cell_type": "code",
      "source": [
        "# Define a function to generate responses from the model\n",
        "def generate_response(question):\n",
        "    # Create a human message with the given question\n",
        "    message = HumanMessage(content=question)\n",
        "    # Invoke the model to get a response\n",
        "    response = model.invoke([message])\n",
        "    # Return the content of the response\n",
        "    return response.content"
      ],
      "metadata": {
        "id": "cMSete90FBq2"
      },
      "id": "cMSete90FBq2",
      "execution_count": 9,
      "outputs": []
    },
    {
      "cell_type": "markdown",
      "source": [
        "Different API keys are used to manage access to various models, services, and environments, ensuring proper authentication, authorization, and tracking of usage"
      ],
      "metadata": {
        "id": "opx83h6XIH4b"
      },
      "id": "opx83h6XIH4b"
    },
    {
      "cell_type": "code",
      "source": [
        "question = input(\"Enter a topic on which you want to write a story on:\")\n",
        "answer = generate_response('write a story on '+question)\n",
        "print(answer)"
      ],
      "metadata": {
        "colab": {
          "base_uri": "https://localhost:8080/"
        },
        "id": "xqdby7ADFPzl",
        "outputId": "9c6538db-6c22-4219-b2e7-9d7ee3f8a89a"
      },
      "id": "xqdby7ADFPzl",
      "execution_count": 10,
      "outputs": [
        {
          "output_type": "stream",
          "name": "stdout",
          "text": [
            "Enter a topic on which you want to write a story on:EXPLAIN THE CONCEPT OF TRANSFORMERS USING REAL WORKLD AND THE ENTITIES IN IT\n",
            "Here's a story that explains the concept of transformers using real-world entities:\n",
            "\n",
            "**The Electric Highway**\n",
            "\n",
            "In the bustling city of Metropolis, there lived a group of friends who were passionate about cars. Among them was Rachel, a brilliant engineer who had a fascination for electricity. One day, while driving her electric car, Rachel noticed something peculiar.\n",
            "\n",
            "As she plugged her car into a charging station, she saw that the voltage of the electricity flowing into her car was different from the voltage coming out of the power grid. She wondered, \"How does this charging station convert the high-voltage electricity from the grid to the low-voltage electricity that my car needs?\"\n",
            "\n",
            "Rachel's friend, Alex, a seasoned electrician, explained to her that it was all thanks to a device called a transformer. \"A transformer is like a special kind of messenger,\" Alex said. \"It takes in high-voltage electricity from the power grid, converts it into low-voltage electricity, and then sends it to your car's battery.\"\n",
            "\n",
            "Rachel was intrigued. \"That's like a translator, converting one language into another,\" she exclaimed.\n",
            "\n",
            "**The Language of Electricity**\n",
            "\n",
            "To help Rachel understand better, Alex used an analogy. \"Think of electricity as a language,\" he said. \"Just as we communicate in different languages, electricity has different 'languages' too – different voltages, frequencies, and currents.\"\n",
            "\n",
            "\"In the power grid, the 'language' of electricity is high-voltage and high-frequency,\" Alex continued. \"But your car's battery only understands low-voltage and low-frequency 'language'. That's where the transformer comes in. It's like a simultaneous translator, converting the high-voltage 'language' into low-voltage 'language' in real-time.\"\n",
            "\n",
            "Rachel's eyes lit up. \"I get it! The transformer is like a middleman, converting the electricity from one 'language' to another, so that my car can understand and use it.\"\n",
            "\n",
            "**The Transformer's Magic**\n",
            "\n",
            "As they drove around the city, Rachel and Alex passed by a large electrical substation. Alex pointed to a massive device humming away inside. \"That's a transformer,\" he said. \"It's the heart of the electrical grid, converting high-voltage electricity from the power plants into low-voltage electricity that homes and businesses can use.\"\n",
            "\n",
            "Rachel was amazed. \"So, the transformer is like a magician, taking in high-voltage electricity and making it disappear, only to reappear as low-voltage electricity that we can use?\"\n",
            "\n",
            "Alex chuckled. \"Well, it's not magic, but it might seem like it. The transformer uses electromagnetic induction to transfer energy between two circuits, without actually moving any electricity. It's like a clever trick, but one that relies on the fundamental laws of physics.\"\n",
            "\n",
            "**The World of Transformers**\n",
            "\n",
            "As they continued their drive, Rachel and Alex discussed how transformers are used in many aspects of life. They enable efficient transmission of electricity over long distances, power electronic devices, and even facilitate international electricity trade.\n",
            "\n",
            "Rachel realized that transformers are the unsung heroes of the modern world, working behind the scenes to ensure that we have reliable and efficient access to electricity. \"I never knew that something so ubiquitous could be so fascinating,\" she said.\n",
            "\n",
            "Alex smiled. \"That's the beauty of engineering, Rachel. There's magic in the mundane, and transformers are a perfect example of that.\"\n",
            "\n",
            "From that day on, whenever Rachel plugged her car into a charging station, she would remember the transformer's crucial role in making it all possible – converting the language of electricity, one voltage at a time.\n"
          ]
        }
      ]
    },
    {
      "cell_type": "code",
      "source": [
        "question = input(\"Enter a topic on which you want to write a story on:\")\n",
        "answer = generate_response('write a story on '+question)\n",
        "print(answer)"
      ],
      "metadata": {
        "colab": {
          "base_uri": "https://localhost:8080/"
        },
        "id": "7XfsD_5675Nl",
        "outputId": "bb27c606-6999-458b-bd8d-163abecc0082"
      },
      "id": "7XfsD_5675Nl",
      "execution_count": 11,
      "outputs": [
        {
          "output_type": "stream",
          "name": "stdout",
          "text": [
            "Enter a topic on which you want to write a story on:STORY ABOUT A TEACHER NAME NISHA CREATING A NEW ARCHITECTURE FOR THE TRANSFORMERS \n",
            "**The Unlikely Architect**\n",
            "\n",
            "Nisha, a dedicated and passionate teacher, had always had a secret passion - architecture. While her days were filled with lesson plans and grading papers, her nights were spent doodling blueprints and dreaming of designing the impossible. Little did she know, her life was about to take a dramatic turn.\n",
            "\n",
            "One fateful evening, as she was grading papers at her desk, a strange, glowing portal materialized in her classroom. Before she could react, a towering, metallic figure emerged from the shimmering gateway. It was Optimus Prime, leader of the Autobots.\n",
            "\n",
            "\"Greetings, Nisha,\" Optimus Prime boomed. \"We have been monitoring your...unconventional architectural designs. We believe your unique perspective can help us revolutionize our Transformer cities.\"\n",
            "\n",
            "Nisha's jaw dropped as she stared at the legendary robot. \"Me? You want me to design for the Transformers?\"\n",
            "\n",
            "Optimus Prime nodded. \"Our current architecture is functional, but we seek innovation. We require a human perspective to create a new, sustainable, and harmonious environment for our kind. Will you accept the challenge?\"\n",
            "\n",
            "Nisha's excitement was palpable. She had always dreamed of making a mark on the world, and this was the opportunity of a lifetime. With a resolute nod, she agreed to take on the project.\n",
            "\n",
            "The next few weeks were a whirlwind of brainstorming sessions, research, and collaboration with the Autobots. Nisha immersed herself in the world of Transformers, learning about their unique needs, abilities, and cultures. She poured over ancient texts, studied the intricate mechanics of their bodies, and marveled at their advanced technology.\n",
            "\n",
            "As her ideas began to take shape, Nisha's classroom transformed into a makeshift design studio. Rolls of paper, colored pencils, and 3D modeling software cluttered her desk. She worked tirelessly, fueled by her passion for creating something truly remarkable.\n",
            "\n",
            "The Autobots, fascinated by her creative process, often dropped by to offer insights and feedback. Jazz, the smooth-talking Autobot, would jam to Nisha's eclectic playlist while she worked, while Sideswipe, the young and curious Autobot, would ask endless questions about human architecture.\n",
            "\n",
            "As the designs took shape, Nisha's vision began to materialize. She envisioned a city that blended seamlessly with the natural environment, harnessing the power of the planet's elements to sustain the Transformers. The architecture would be a symphony of curves and angles, reflecting the fluidity and adaptability of the Autobots.\n",
            "\n",
            "The centerpiece of her design was the \"Energon Nexus,\" a majestic, crystal-like structure that would channel and distribute the planet's energy. The Nexus would be surrounded by towering, organic-inspired skyscrapers, their facades shifting and adapting to the needs of the Transformers.\n",
            "\n",
            "When the final designs were complete, Nisha presented them to Optimus Prime and the Autobot Council. The room fell silent as they pored over her work, their eyes widening in awe.\n",
            "\n",
            "\"This is it,\" Optimus Prime declared, his voice filled with emotion. \"This is the future we have been searching for. Nisha, you have given us a new home, a new hope.\"\n",
            "\n",
            "With tears of joy, Nisha watched as the Autobots set to work, bringing her vision to life. The construction of the new city, dubbed \"Nexus Prime,\" was a marvel to behold. The Transformers worked in harmony with Nisha, their combined efforts creating a masterpiece that defied the boundaries of human and robotic ingenuity.\n",
            "\n",
            "As Nexus Prime rose from the ground, Nisha's students, who had been following her journey, looked on in awe. They realized that their teacher, the one who had inspired them to reach for the stars, had just changed the course of history.\n",
            "\n",
            "Nisha's architectural masterpiece became a beacon of hope, a symbol of what could be achieved when humans and Transformers worked together. And as she stood amidst the bustling city, surrounded by her new Autobot friends, she knew that she had found her true calling - creating a better future, one blueprint at a time.\n"
          ]
        }
      ]
    },
    {
      "cell_type": "code",
      "source": [],
      "metadata": {
        "id": "6fJzVzBw75sS"
      },
      "id": "6fJzVzBw75sS",
      "execution_count": null,
      "outputs": []
    }
  ],
  "metadata": {
    "kernelspec": {
      "display_name": "Python 3 (ipykernel)",
      "language": "python",
      "name": "python3"
    },
    "language_info": {
      "codemirror_mode": {
        "name": "ipython",
        "version": 3
      },
      "file_extension": ".py",
      "mimetype": "text/x-python",
      "name": "python",
      "nbconvert_exporter": "python",
      "pygments_lexer": "ipython3",
      "version": "3.11.7"
    },
    "colab": {
      "provenance": []
    }
  },
  "nbformat": 4,
  "nbformat_minor": 5
}